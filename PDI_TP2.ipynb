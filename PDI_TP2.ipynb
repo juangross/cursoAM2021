{
  "nbformat": 4,
  "nbformat_minor": 0,
  "metadata": {
    "colab": {
      "name": "PDI-TP2.ipynb",
      "provenance": [],
      "collapsed_sections": [],
      "authorship_tag": "ABX9TyNrn4N85v2f2pYiG0AL8BBY",
      "include_colab_link": true
    },
    "kernelspec": {
      "name": "python3",
      "display_name": "Python 3"
    },
    "language_info": {
      "name": "python"
    }
  },
  "cells": [
    {
      "cell_type": "markdown",
      "metadata": {
        "id": "view-in-github",
        "colab_type": "text"
      },
      "source": [
        "<a href=\"https://colab.research.google.com/github/juangross/cursoAM2021/blob/main/PDI_TP2.ipynb\" target=\"_parent\"><img src=\"https://colab.research.google.com/assets/colab-badge.svg\" alt=\"Open In Colab\"/></a>"
      ]
    },
    {
      "cell_type": "markdown",
      "metadata": {
        "id": "GqJjgWXpl2Qt"
      },
      "source": [
        "TP2)\n",
        "  La propuesta para esta actividad consiste en manipular independientemente la luminancia y la saturación de una imagen. Para ello convertimos cada pixel de la imagen del espacio RGB al espacio YIQ, luego alteramos los valores de Y (para cambiar la luminancia) y/o de IQ (para cambiar la saturación). Con los nuevos valores de YIQ, convertimos a RGB nuevamente y obtenemos una nueva imagen.\n",
        "\n",
        "**Observaciones**: para cada uno estos deben mostrar la imagen original vs el resultado de la modificación realizada a la imagen para un diferente rango de valores de prueba de Y e IQ.\n",
        "\n",
        "La segunda parte del TP2 consiste en utilizar algunos datasets 2D (pueden ser mapas de altitud, de temperatura, etc.) y “visualizarlos” con diferentes paletas, incluyendo la de niveles de gris y la arco iris. \n",
        "\n",
        "**Observaciones**: el objetivo es ver cómo con diferentes paletas de colores se pueden apreciar ciertos detalles de una imagen, sin necesidad de modificar el contenido de la misma.\n",
        "Les sugiero no utilizar imágenes de más de 1000 X 1000 pixeles\n"
      ]
    },
    {
      "cell_type": "code",
      "metadata": {
        "colab": {
          "base_uri": "https://localhost:8080/"
        },
        "id": "gq3twaoolvXF",
        "outputId": "4a14537f-f72f-464a-802b-06695ff28344"
      },
      "source": [
        "!git clone https://github.com/juangross/cAM"
      ],
      "execution_count": 26,
      "outputs": [
        {
          "output_type": "stream",
          "name": "stdout",
          "text": [
            "fatal: destination path 'cAM' already exists and is not an empty directory.\n"
          ]
        }
      ]
    },
    {
      "cell_type": "markdown",
      "metadata": {
        "id": "laBKoZXAl1iQ"
      },
      "source": [
        "Cargo imagen de prueba\n"
      ]
    },
    {
      "cell_type": "code",
      "metadata": {
        "colab": {
          "base_uri": "https://localhost:8080/",
          "height": 187
        },
        "id": "uuXeToA4mYqY",
        "outputId": "2386db5c-f427-40d8-bbfe-0ff4d9e0ec11"
      },
      "source": [
        "import matplotlib.pyplot as plt\n",
        "#import matplotlib.image as mpimg\n",
        "import imageio as img\n",
        "import numpy as np\n",
        "\n",
        "\n",
        "# Import an image from directory:\n",
        "path=\"./cAM/imagenes/\"\n",
        "archi=\"patron_RGBCMYWK\"\n",
        "archo=\"output\"\n",
        "archo2=\"output2\"\n",
        "ext=\"png\"\n",
        "\n",
        "#formato actual\n",
        "\n",
        "print(\"leyendo archivo:\", f\"{path}{archi}.{ext}\")\n",
        "#input_image= mpimg.imread(f\"{archi}.{ext}\")  #lee con matplotlib\n",
        "input_image=img.imread(f\"{path}{archi}.{ext}\")      #lee con imageio\n",
        "\n",
        "print (\"imagen de entrada\")\n",
        "plt.imshow(input_image)"
      ],
      "execution_count": 27,
      "outputs": [
        {
          "output_type": "stream",
          "name": "stdout",
          "text": [
            "leyendo archivo: ./cAM/imagenes/patron_RGBCMYWK.png\n",
            "imagen de entrada\n"
          ]
        },
        {
          "output_type": "execute_result",
          "data": {
            "text/plain": [
              "<matplotlib.image.AxesImage at 0x7fc363f86950>"
            ]
          },
          "metadata": {},
          "execution_count": 27
        },
        {
          "output_type": "display_data",
          "data": {
            "image/png": "[encoded data removed]",
            "text/plain": [
              "<Figure size 432x288 with 1 Axes>"
            ]
          },
          "metadata": {
            "needs_background": "light"
          }
        }
      ]
    },
    {
      "cell_type": "code",
      "metadata": {
        "colab": {
          "base_uri": "https://localhost:8080/"
        },
        "id": "atzv7NUZajcv",
        "outputId": "d52fa927-d4a6-40f8-c384-274caefcda90"
      },
      "source": [
        "input_tam=input_image.shape\n",
        "\n",
        "print(\"Dimensiones (X,Y,canales): \", input_tam)\n",
        "print(\"tipo de datos: \" , input_image.dtype)\n",
        "\n",
        "print(\"Datos en crudo: \")\n",
        "input_image[:,:,:]\n"
      ],
      "execution_count": 28,
      "outputs": [
        {
          "output_type": "stream",
          "name": "stdout",
          "text": [
            "Dimensiones (X,Y,canales):  (4, 16, 3)\n",
            "tipo de datos:  uint8\n",
            "Datos en crudo: \n"
          ]
        },
        {
          "output_type": "execute_result",
          "data": {
            "text/plain": [
              "Array([[[255,   0,   0],\n",
              "        [255,   0,   0],\n",
              "        [  0, 255,   0],\n",
              "        [  0, 255,   0],\n",
              "        [  0,   0, 255],\n",
              "        [  0,   0, 255],\n",
              "        [  0, 255, 255],\n",
              "        [  0, 255, 255],\n",
              "        [255,   0, 255],\n",
              "        [255,   0, 255],\n",
              "        [255, 255,   0],\n",
              "        [255, 255,   0],\n",
              "        [255, 255, 255],\n",
              "        [255, 255, 255],\n",
              "        [  0,   0,   0],\n",
              "        [  0,   0,   0]],\n",
              "\n",
              "       [[255,   0,   0],\n",
              "        [255,   0,   0],\n",
              "        [  0, 255,   0],\n",
              "        [  0, 255,   0],\n",
              "        [  0,   0, 255],\n",
              "        [  0,   0, 255],\n",
              "        [  0, 255, 255],\n",
              "        [  0, 255, 255],\n",
              "        [255,   0, 255],\n",
              "        [255,   0, 255],\n",
              "        [255, 255,   0],\n",
              "        [255, 255,   0],\n",
              "        [255, 255, 255],\n",
              "        [255, 255, 255],\n",
              "        [  0,   0,   0],\n",
              "        [  0,   0,   0]],\n",
              "\n",
              "       [[255,   0,   0],\n",
              "        [255,   0,   0],\n",
              "        [  0, 255,   0],\n",
              "        [  0, 255,   0],\n",
              "        [  0,   0, 255],\n",
              "        [  0,   0, 255],\n",
              "        [  0, 255, 255],\n",
              "        [  0, 255, 255],\n",
              "        [255,   0, 255],\n",
              "        [255,   0, 255],\n",
              "        [255, 255,   0],\n",
              "        [255, 255,   0],\n",
              "        [255, 255, 255],\n",
              "        [255, 255, 255],\n",
              "        [  0,   0,   0],\n",
              "        [  0,   0,   0]],\n",
              "\n",
              "       [[255,   0,   0],\n",
              "        [255,   0,   0],\n",
              "        [  0, 255,   0],\n",
              "        [  0, 255,   0],\n",
              "        [  0,   0, 255],\n",
              "        [  0,   0, 255],\n",
              "        [  0, 255, 255],\n",
              "        [  0, 255, 255],\n",
              "        [255,   0, 255],\n",
              "        [255,   0, 255],\n",
              "        [255, 255,   0],\n",
              "        [255, 255,   0],\n",
              "        [255, 255, 255],\n",
              "        [255, 255, 255],\n",
              "        [  0,   0,   0],\n",
              "        [  0,   0,   0]]], dtype=uint8)"
            ]
          },
          "metadata": {},
          "execution_count": 28
        }
      ]
    },
    {
      "cell_type": "code",
      "metadata": {
        "colab": {
          "base_uri": "https://localhost:8080/"
        },
        "id": "pEx0lOwXaMt9",
        "outputId": "97b1eb6f-65b9-4581-fad6-e09686353e6f"
      },
      "source": [
        "#creo un array nuevo pero vacío usando numpy\n",
        "input_image_norm=np.zeros(input_tam, dtype=float)\n",
        "#normalizo los valores correspondientes a cada canal RGB. haciendo: <valor color pixel>/256\n",
        "#solamente se normaliza si el valor del color para ese canal es >0.\n",
        "\n",
        "#normalizo la imagen\n",
        "input_image_norm=1/255*input_image\n",
        "#print(input_image_norm)\n",
        "print(input_image_norm.shape)\n",
        "\n",
        "#transformo a YIQ\n",
        "YIQ_image_norm=np.zeros(input_tam, dtype=float)\n",
        "YIQ=np.array([[0.299,0.587,0.114],[0.595716,-0.274453,-0.321263],[0.211456,-0.522591,0.311135]], dtype=float)\n",
        "#print(YIQ.shape)\n",
        "a=np.array([[[1 , 0],[0 , 0],[0 , 1 ],[1 , 0],[0 , 0],[0 , 1 ]]])  # dos pixels , uno rojo y otro azul, normalizados\n",
        "print(a.shape)\n",
        "#a.transpose((1,0,2))\n",
        "\n",
        "#YIQ_image_norm=input_image_norm[,,:]* YIQ\n",
        "#print(YIQ.T)\n",
        "#YIQ_image_norm=np.dot(input_image_norm,YIQ.T.copy())\n",
        "#print (YIQ_image_norm)\n",
        "#for k in range (input_tam[2]):\n",
        "#  for j in range(input_tam[1]):\n",
        "#    for i in range(input_tam[0]):\n",
        "      #si el valor del pixel es >0 lo piso con el valor nuevo\n",
        "#        if(input_image_norm[i,j,k]):\n",
        "        #YIQ_image_norm[i,j,k]=np.matmul(input_image_norm[i,j,k],YIQ)\n",
        "#YIQ_image_norm=np.vdot(YIQ,input_image_norm)\n",
        "\n"
      ],
      "execution_count": 34,
      "outputs": [
        {
          "output_type": "stream",
          "name": "stdout",
          "text": [
            "(4, 16, 3)\n",
            "(1, 6, 2)\n"
          ]
        }
      ]
    }
  ]
}